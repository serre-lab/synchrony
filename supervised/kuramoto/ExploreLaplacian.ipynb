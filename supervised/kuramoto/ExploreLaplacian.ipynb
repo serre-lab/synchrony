{
 "cells": [
  {
   "cell_type": "markdown",
   "metadata": {},
   "source": [
    "# Exploring the Laplacian for Spectral Analysis and Graph Partitioning \n",
    "\n",
    "L = D - A "
   ]
  },
  {
   "cell_type": "markdown",
   "metadata": {},
   "source": [
    "### Definitions to Calculate Laplacian, Eigenvalue+Eigenvectors, Partitions, Spectral Gap"
   ]
  },
  {
   "cell_type": "code",
   "execution_count": 27,
   "metadata": {},
   "outputs": [],
   "source": [
    "#define a W matrix that gives the couplings\n",
    "#these are the definitions in NetProp.py \n",
    "import numpy as np\n",
    "from numpy import linalg as LA\n",
    "import networkx as nx\n",
    "import matplotlib.pyplot as plt\n",
    "\n",
    "class Laplacian():\n",
    "    def __init__(self,W):\n",
    "        self.W = W\n",
    "        self.nodes = len(W)\n",
    "        \n",
    "    def get_L(self):\n",
    "        W = self.W\n",
    "        A = self.calc_adj()\n",
    "        D = self.get_D()\n",
    "        Lin = D[0]-A\n",
    "        Lout = D[1]-A\n",
    "        Lboth = D[2]-A\n",
    "        self.Lin = Lin\n",
    "        self.Lout = Lout\n",
    "        self.Lboth = Lboth\n",
    "        return([Lin,Lout,Lboth])\n",
    "    def calc_adj(self):\n",
    "        W = self.W\n",
    "        A = np.where(W>0, 1,0)\n",
    "        self.A = A\n",
    "        return A\n",
    "    def get_D(self):\n",
    "        A = self.A\n",
    "        W = self.W\n",
    "        D = []\n",
    "        Din = np.zeros(len(A))\n",
    "        Dout=np.zeros(len(A))\n",
    "        Dboth=np.zeros(len(A))\n",
    "        for i in range(len(A)):\n",
    "            Din[i] = sum(A[i,:])\n",
    "            Dout[i] = sum(A[:,i])\n",
    "            if A[i,i]>0:\n",
    "                Dboth[i] = Din[i]+Dout[i]-1\n",
    "            else:\n",
    "                Dboth[i] = Din[i]+Dout[i]\n",
    "        D.append(np.diag(Din))\n",
    "        D.append(np.diag(Dout))\n",
    "        D.append(np.diag(Dboth))\n",
    "        self.Din = Din\n",
    "        self.Dout = Dout\n",
    "        self.Dboth = Dboth\n",
    "        return(D)\n",
    "\n",
    "    def get_eigen(self): # modified from laplacian partition from Netprop.py\n",
    "            #using just Lboth for now\n",
    "            Lin,Lout, Lboth = self.get_L()\n",
    "            val, vec = LA.eig(Lin) #Lboth in Netprop.py\n",
    "            #print(Lin)\n",
    "            self.val = val\n",
    "            self.vec = vec\n",
    "            return val,vec\n",
    "\n",
    "    def partition(self,part):\n",
    "        part1 = []\n",
    "        part2 = []\n",
    "        for i in range(len(part)):\n",
    "            if part[i]>0: \n",
    "                part1.append(i)\n",
    "            else:\n",
    "                part2.append(i)\n",
    "        return([part1,part2])\n",
    "\n",
    "    def laplacian_partition(self): #adapted from Netprop.py\n",
    "        W = self.W\n",
    "        val,vec = self.get_eigen()\n",
    "        part = vec[np.where(val==np.sort(val)[1])]\n",
    "        part1,part2 = self.partition(part[0])\n",
    "        self.part1 = part1\n",
    "        self.part2 = part2\n",
    "        return([part1,part2]) #returns list of two lists (one for each group)\n",
    "        #should it be return([part1,part2])\n",
    "\n",
    "\n",
    "    def plot_partition(self): #adapted from Netprop.py #need to check this definition\n",
    "        W = self.W\n",
    "        parts = self.laplacian_partition()\n",
    "        side = int(len(W)**0.5)\n",
    "        Limg = np.zeros(shape = side**2)\n",
    "        for p in parts[0]:\n",
    "            Limg[p] = 0\n",
    "        for p in parts[1]:\n",
    "            Limg[p] = 255\n",
    "        Limg = np.reshape(Limg,(side,side))\n",
    "        Limg = np.repeat(Limg[:,:,np.newaxis],repeats = 3,axis = 2)\n",
    "        Limg = Limg.astype('uint8')\n",
    "        plt.imshow(Limg)\n",
    "        #plt.savefig('{}/LaplacianPartioning_epoch{}_image{}_{}'.format(save_dir,epoch,image_num,trial_type))\n",
    "        frame = plt.gca()\n",
    "        frame.axes.get_xaxis().set_visible(False)\n",
    "        frame.axes.get_yaxis().set_visible(False)\n",
    "        plt.title('Paritions')\n",
    "    \n",
    "    def plot_graph(self):\n",
    "        G = nx.MultiDiGraph()\n",
    "        W = self.W\n",
    "        for i in range(len(W)):\n",
    "            for j in range(len(W)):\n",
    "            #print(i,j)\n",
    "                if W[i,j]!= 0: \n",
    "                    G.add_weighted_edges_from([(i, j, W[i,j])])\n",
    "        nx.drawing.nx_pylab.draw_networkx(G)\n",
    "        plt.show()\n",
    "\n",
    "    def plot_eigenvalues(self):\n",
    "        val,vec = self.get_eigen()\n",
    "        plt.plot(np.sort(val),'o')\n",
    "        plt.ylabel('Eigenvalue')\n",
    "        plt.title('Eigenvalues')\n",
    "        plt.xticks(range(self.nodes))"
   ]
  },
  {
   "cell_type": "markdown",
   "metadata": {},
   "source": [
    "### Before Beginning: Drawing with Networkx\n",
    "\n",
    "-> Useful visualization tool\n",
    "\n",
    "-> need to check the innerworkings of how it draws - will draw it slightly differently each time"
   ]
  },
  {
   "cell_type": "markdown",
   "metadata": {},
   "source": [
    "### Part 1: Demo from TowardsDataScience Article\n",
    "link: https://towardsdatascience.com/spectral-clustering-aba2640c0d5b"
   ]
  },
  {
   "cell_type": "markdown",
   "metadata": {},
   "source": [
    "##### Recreate Eigenvalues of Graph Laplacian\n",
    "\n",
    "![Figure 1](eigenvalues_of_graph_laplacian.png)\n"
   ]
  },
  {
   "cell_type": "code",
   "execution_count": 26,
   "metadata": {},
   "outputs": [
    {
     "data": {
      "image/png": "[encoded data removed]",
      "text/plain": [
       "<Figure size 432x288 with 1 Axes>"
      ]
     },
     "metadata": {},
     "output_type": "display_data"
    },
    {
     "data": {
      "image/png": "[encoded data removed]",
      "text/plain": [
       "<Figure size 432x288 with 1 Axes>"
      ]
     },
     "metadata": {
      "needs_background": "light"
     },
     "output_type": "display_data"
    }
   ],
   "source": [
    "A = np.array([\n",
    "  [0, 1, 1, 0, 0, 0, 0, 0, 1, 1],\n",
    "  [1, 0, 1, 0, 0, 0, 0, 0, 0, 0],\n",
    "  [1, 1, 0, 0, 0, 0, 0, 0, 0, 0],\n",
    "  [0, 0, 0, 0, 1, 1, 0, 0, 0, 0],\n",
    "  [0, 0, 0, 1, 0, 1, 0, 0, 0, 0],\n",
    "  [0, 0, 0, 1, 1, 0, 1, 1, 0, 0],\n",
    "  [0, 0, 0, 0, 0, 1, 0, 1, 0, 0],\n",
    "  [0, 0, 0, 0, 0, 1, 1, 0, 0, 0],\n",
    "  [1, 0, 0, 0, 0, 0, 0, 0, 0, 1],\n",
    "  [1, 0, 0, 0, 0, 0, 0, 0, 1, 0]])\n",
    "L = Laplacian(A)\n",
    "L.plot_graph()\n",
    "L.plot_eigenvalues()"
   ]
  },
  {
   "cell_type": "code",
   "execution_count": null,
   "metadata": {},
   "outputs": [],
   "source": []
  },
  {
   "cell_type": "markdown",
   "metadata": {},
   "source": [
    "### Part 2: Bipartate Graph Constructed from Second Smallest Eigenvalue"
   ]
  },
  {
   "cell_type": "code",
   "execution_count": 28,
   "metadata": {},
   "outputs": [
    {
     "data": {
      "image/png": "[encoded data removed]",
      "text/plain": [
       "<Figure size 432x288 with 1 Axes>"
      ]
     },
     "metadata": {},
     "output_type": "display_data"
    },
    {
     "data": {
      "image/png": "[encoded data removed]",
      "text/plain": [
       "<Figure size 432x288 with 1 Axes>"
      ]
     },
     "metadata": {
      "needs_background": "light"
     },
     "output_type": "display_data"
    }
   ],
   "source": [
    "coupling_matrix = np.array([[0,1,3,5],[2,4,5,2],[1,0,0,0],[1,1,1,1]])\n",
    "#coupling_matrix = np.array([[0,0,0,1],[1,0,0,0],[1,0,0,0],[1,1,1,1]])\n",
    "L = Laplacian(coupling_matrix)\n",
    "L.plot_graph()\n",
    "L.plot_partition()\n",
    "#black is one partition, white another."
   ]
  },
  {
   "cell_type": "markdown",
   "metadata": {},
   "source": [
    "### Part 3: Using the Largest Spectral Gap "
   ]
  }
 ],
 "metadata": {
  "kernelspec": {
   "display_name": "Python 3",
   "language": "python",
   "name": "python3"
  },
  "language_info": {
   "codemirror_mode": {
    "name": "ipython",
    "version": 3
   },
   "file_extension": ".py",
   "mimetype": "text/x-python",
   "name": "python",
   "nbconvert_exporter": "python",
   "pygments_lexer": "ipython3",
   "version": "3.7.5"
  }
 },
 "nbformat": 4,
 "nbformat_minor": 4
}
