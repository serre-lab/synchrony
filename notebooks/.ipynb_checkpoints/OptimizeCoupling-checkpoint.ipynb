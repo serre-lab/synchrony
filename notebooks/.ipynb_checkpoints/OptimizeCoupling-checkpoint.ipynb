{
 "cells": [
  {
   "cell_type": "code",
   "execution_count": 1,
   "metadata": {},
   "outputs": [],
   "source": [
    "import torch\n",
    "from torch.autograd import Variable\n",
    "import torch.nn.functional as F\n",
    "from torch.distributions import uniform, cauchy, normal, relaxed_bernoulli\n",
    "import numpy as np\n",
    "import matplotlib.pyplot as plt\n",
    "from matplotlib.patches import Circle\n",
    "from matplotlib.collections import PatchCollection\n",
    "plt.style.use('ggplot')\n",
    "import os\n",
    "import ipdb"
   ]
  },
  {
   "cell_type": "code",
   "execution_count": 2,
   "metadata": {},
   "outputs": [],
   "source": [
    "# Fetch distribution objects for intrinsic frequencies\n",
    "\n",
    "def get_dist(dist_name,):\n",
    "    if dist_name == 'cauchy':\n",
    "        loc = 0.0\n",
    "        scale = .1\n",
    "        dist = cauchy.Cauchy(loc, scale)\n",
    "        g0 = torch.exp(dist.log_prob(loc))\n",
    "        return dist, g0\n",
    "    elif dist_name == 'uniform':\n",
    "        high = 1.0\n",
    "        low = -1.0\n",
    "        g0 = 1. / (high - low)\n",
    "        dist = uniform.Uniform(-1.0, 1.0)\n",
    "        return dist, g0"
   ]
  },
  {
   "cell_type": "code",
   "execution_count": 3,
   "metadata": {},
   "outputs": [],
   "source": [
    "def sigmoid(x):\n",
    "    return 1. / (1 + torch.exp(-1*(x)))\n",
    "\n",
    "def normalize(x):\n",
    "    return x / torch.sqrt((x**2).sum((1,2)).unsqueeze(-1).unsqueeze(-1))"
   ]
  },
  {
   "cell_type": "code",
   "execution_count": 4,
   "metadata": {},
   "outputs": [],
   "source": [
    "class connectivity_net(torch.nn.Module):\n",
    "    def __init__(self, num_in, num_hid=256, transform='None', symmetric=False):\n",
    "        super(connectivity_net, self).__init__()\n",
    "        self.num_in = num_in\n",
    "        self.symmetric = symmetric\n",
    "        self.transform = transform\n",
    "        if symmetric:\n",
    "            self.num_out = int(num_in*(num_in - 1) / 2.) + 1\n",
    "            self.triu_ind = np.triu_indices(num_in,k=1)\n",
    "        else:\n",
    "            self.num_out = num_in**2 + 1\n",
    "        self.layers = torch.nn.Sequential(torch.nn.Linear(num_in, num_hid),\n",
    "                         torch.nn.ReLU(),\n",
    "                         torch.nn.Linear(num_hid,num_hid),\n",
    "                         torch.nn.ReLU(),\n",
    "                         torch.nn.Linear(num_hid,num_hid),\n",
    "                         torch.nn.ReLU(),                 \n",
    "                         torch.nn.Linear(num_hid,self.num_out))\n",
    "#         self.layers = torch.nn.Linear(num_in,self.num_out)\n",
    "\n",
    "    def forward(self,x): \n",
    "        out = self.layers(x)\n",
    "        sigma = out[:,-1].reshape(x.shape[0],1, 1)\n",
    "        if self.symmetric:\n",
    "            p = torch.zeros(x.shape[0], self.num_in, self.num_in)\n",
    "            p[:,self.triu_ind[0],self.triu_ind[1]] = out[:,:-1]\n",
    "            p += p.transpose(2,1)\n",
    "        else:\n",
    "            p = out[:,:-1].reshape(-1,self.num_in, self.num_in)\n",
    "        if self.transform is None:\n",
    "            return p\n",
    "        elif self.transform == 'softmax':    \n",
    "            return softmax(p,dim=-1)\n",
    "        elif self.transform == 'sigmoid':    \n",
    "            return sigmoid(p)\n",
    "        elif self.transform == 'normalize':\n",
    "            return normalize(p)\n",
    "        elif self.transform == 'center':\n",
    "            return p - p.mean(-1).unsqueeze(-1)\n",
    "        elif self.transform == 'tanh':\n",
    "            return torch.tanh(p)\n",
    "        elif self.transform == 'ei':\n",
    "            p*=sigma\n",
    "            hard_p = sigma*torch.where(p < 0, -1*torch.ones_like(p), torch.ones_like(p))\n",
    "            return hard_p - p.detach() + p"
   ]
  },
  {
   "cell_type": "code",
   "execution_count": 5,
   "metadata": {},
   "outputs": [],
   "source": [
    "def laplacian_spectrum(W, normalized=True):\n",
    "    D_bar = np.diag(np.abs(W).sum(1))\n",
    "    L = D_bar - W\n",
    "    if normalized:\n",
    "        mask = np.eye(W.shape[0])\n",
    "        D_bar_sqrt = np.where(mask, D_bar**(-.5), np.zeros_like(D_bar))\n",
    "        L_sym = np.matmul(D_bar_sqrt, np.matmul(L, D_bar_sqrt))\n",
    "        return np.linalg.eigvals(L_sym)\n",
    "    else:\n",
    "        return np.linalg.eigvals(L)"
   ]
  },
  {
   "cell_type": "code",
   "execution_count": 6,
   "metadata": {},
   "outputs": [],
   "source": [
    "def get_factors(n):\n",
    "    factors = []\n",
    "    for x in range(1, int(np.sqrt(n)) + 1):\n",
    "        if n % x == 0:\n",
    "            factors.append((x, n//x))\n",
    "    return factors\n",
    "\n",
    "def nearly_square(n):\n",
    "   factor_pairs = get_factors(n)\n",
    "   pair_diffs = np.abs([x - y for (x,y) in factor_pairs])\n",
    "   return factor_pairs[np.argmin(pair_diffs)]\n",
    "\n",
    "def CosDiff(phases, masks, transform='linear',burn_in_prop=.5, eps=None):\n",
    "    T = phases.shape[0]\n",
    "    post_burn_in_steps = T - int(burn_in_prop * T)\n",
    "    num_groups = masks.shape[1]\n",
    "    group_size = masks.sum(2)\n",
    "    num_units  = phases.shape[-1]\n",
    "    diff_mask  = torch.einsum('tgu,tgv->tguv',masks,masks).bool()\n",
    "    diff_mask  = torch.where(diff_mask, -1*torch.ones_like(diff_mask.long()), torch.ones_like(diff_mask.long()))\n",
    "    phase_diffs = diff_mask*torch.cos(phases.unsqueeze(-1) - phases.unsqueeze(-2)) / (num_units * (num_units - 1) / 2)\n",
    "    loss = phase_diffs.sum((-2,-1)) / group_size\n",
    "    return loss[-1*post_burn_in_steps:].mean()\n",
    "\n",
    "def CosDiff_batch(phases, masks, transform='linear',burn_in_prop=.5, eps=None):\n",
    "    T = phases.shape[0]\n",
    "    post_burn_in_steps = T - int(burn_in_prop * T)\n",
    "    num_groups = masks.shape[1]\n",
    "    group_size = masks.sum(2)\n",
    "    num_units  = phases.shape[-1]\n",
    "    diff_mask  = torch.einsum('bgu,bgv->bguv',masks,masks).bool()\n",
    "    diff_mask  = torch.where(diff_mask, -1*torch.ones_like(diff_mask.long()), torch.ones_like(diff_mask.long()))\n",
    "    phase_diffs = diff_mask*torch.cos(phases.unsqueeze(-1) - phases.unsqueeze(-2)) / (num_units * (num_units - 1) / 2)\n",
    "    loss = phase_diffs.sum((-2,-1)) / group_size\n",
    "    return loss[-1*post_burn_in_steps:].mean()    \n",
    "\n",
    "def Coherence(phase, mask, transform='mean'):\n",
    "    groups_size = mask.sum(2)\n",
    "    if torch.sign(groups_size).sum() < torch.ones_like(groups_size).sum():\n",
    "        raise ValueError('Some group does not have oscillators at all')\n",
    "    sin_mean = (mask * torch.sin(phase)).sum(2) / groups_size\n",
    "    cos_mean = (mask * torch.cos(phase)).sum(2) / groups_size\n",
    "    if transform is None:\n",
    "        return 1 - (sin_mean ** 2 + cos_mean ** 2)\n",
    "    elif transform is 'mean':\n",
    "        return 1 - (sin_mean ** 2 + cos_mean ** 2).mean(1)\n",
    "    \n",
    "def cohn_loss(phases, masks, eps=1e-5, burn_in_prop=.5):\n",
    "    num_groups = masks.shape[1]\n",
    "    group_size = masks.sum(2)\n",
    "    T = phases.shape[0]\n",
    "    post_burn_in_steps = T - int(burn_in_prop * T)\n",
    "    masked_phases = phases * masks\n",
    "    xx = torch.where(masks.bool(), torch.cos(masked_phases), torch.zeros_like(masked_phases))\n",
    "    yy = torch.where(masks.bool(), torch.sin(masked_phases), torch.zeros_like(masked_phases))\n",
    "    go = torch.sqrt((xx.sum(2))**2 + (yy.sum(2))**2) / group_size\n",
    "    synch = 1 - go.mean(1)\n",
    "    \n",
    "    mean_angles = torch.atan2(yy.sum(2), xx.sum(2))\n",
    "    phase_diffs = mean_angles.unsqueeze(2) - mean_angles.unsqueeze(1)\n",
    "    desynch = ((-1*torch.log(torch.abs(2*torch.sin(.5*(phase_diffs))) + eps))).sum((1,2)) / (num_groups)**2\n",
    "    desynch -= c_min\n",
    "    \n",
    "    loss = .5*(synch + desynch)[-1*post_burn_in_steps:]\n",
    "    return loss.mean()\n",
    "\n",
    "def cohn_loss_batch(phases, masks, eps=1e-12, burn_in_prop=.5):\n",
    "    num_groups = masks.shape[1]\n",
    "    group_size = masks.sum(2)\n",
    "    group_size = torch.where(group_size == 0, torch.ones_like(group_size), group_size)\n",
    "    T = phases.shape[0]\n",
    "    burn_in_steps = int(burn_in_prop * T)\n",
    "    masked_phases = phases.unsqueeze(2) * masks.unsqueeze(0)\n",
    "    xx = torch.where(masks.bool(), torch.cos(masked_phases), torch.zeros_like(masked_phases))\n",
    "    yy = torch.where(masks.bool(), torch.sin(masked_phases), torch.zeros_like(masked_phases))\n",
    "    go = torch.sqrt((xx.sum(-1))**2 + (yy.sum(-1))**2) / group_size\n",
    "    synch = 1 - go.sum(2)/num_groups\n",
    "    mean_angles = torch.atan2(yy.sum(-1), xx.sum(-1))\n",
    "    phase_diffs = mean_angles.unsqueeze(3) - mean_angles.unsqueeze(2)\n",
    "    desynch = ((-1*torch.log(torch.abs(2*torch.sin(.5*(phase_diffs))) + eps))).sum((2,3)) / (num_groups)**2\n",
    "    desynch -= c_min\n",
    "    loss = .5*(synch + desynch)[burn_in_steps:,...]\n",
    "    return loss.mean()"
   ]
  },
  {
   "cell_type": "code",
   "execution_count": 7,
   "metadata": {},
   "outputs": [],
   "source": [
    "def kuramoto(phases, omega, coupling, steps=50, alpha=.01):\n",
    "    phase_record = [phases]\n",
    "    for i in range(steps):\n",
    "        n = coupling.shape[2]\n",
    "        delta = alpha *(omega + (torch.bmm(coupling, torch.sin(phases).unsqueeze(2).float()).squeeze(2) * torch.cos(phases) -\n",
    "                torch.bmm(coupling, torch.cos(phases).unsqueeze(2).float()).squeeze(2) * torch.sin(phases)) / n)\n",
    "        phases = phases + delta\n",
    "        phase_record.append(phases)\n",
    "    return torch.stack(phase_record)"
   ]
  },
  {
   "cell_type": "code",
   "execution_count": 8,
   "metadata": {},
   "outputs": [],
   "source": [
    "def phase_evol(phases, masks, save_name=None, ax=None, action='display'):\n",
    "    phases = np.squeeze(np.array(phases, dtype=np.float32))\n",
    "    phases = (phases % ((2*np.pi) + 2*np.pi)) % (2*np.pi)\n",
    "    if masks is not None:\n",
    "        group_num = masks.shape[1]\n",
    "        annot_bool = [True] * group_num\n",
    "        colors = {}\n",
    "        if ax is None:\n",
    "            fig, ax = plt.subplots()\n",
    "        for num in range(group_num):\n",
    "            mean_angle = np.arctan2((np.sin(phases[-1]) * masks[0][num]).sum(),\n",
    "                                    (np.cos(phases[-1]) * masks[0][num]).sum() + 1e-6)\n",
    "            colors[num] = (mean_angle + 2 * np.pi) % (2 * np.pi) / (2 * np.pi)\n",
    "        for i in range(phases.shape[1]):\n",
    "            for num in range(group_num):\n",
    "                if masks[0][num][i]:\n",
    "                    ax.plot(phases[:, i], color=plt.cm.hsv(colors[num]), alpha=0.5)\n",
    "                    if annot_bool[num]:\n",
    "                        ax.text(phases.shape[0] + 0.01, phases[-1, i], 'group{}'.format(num),\n",
    "                                 horizontalalignment='left', size='x-small', color=plt.cm.hsv(colors[num]))\n",
    "                        annot_bool[num] = False\n",
    "        plt.xlabel('Time')\n",
    "        plt.ylabel('Phase')\n",
    "        plt.title('Phase Evolution')\n",
    "    else:\n",
    "        for i in range(phases.shape[1]):\n",
    "            ax.plot(phases[:, i])\n",
    "        ax.set_xlabel('Time')\n",
    "        ax.set_ylabel('Phase')\n",
    "        ax.set_title('Phase Evolution')\n",
    "    ax.set_ylim([0,2*np.pi])\n",
    "    plt.tight_layout()\n",
    "    if action == 'save':\n",
    "        plt.savefig(save_name + '.png')\n",
    "    elif action == 'display':\n",
    "        plt.show()"
   ]
  },
  {
   "cell_type": "code",
   "execution_count": 9,
   "metadata": {},
   "outputs": [],
   "source": [
    "def plot_phases(phases):\n",
    "    fig, ax = plt.subplots()\n",
    "    patches = []\n",
    "    patches.append(Circle((0.0,0.0), radius=1.0))\n",
    "    p = PatchCollection(patches, alpha=0.4)\n",
    "#     p.set_fill(False)\n",
    "    ax.add_collection(p)\n",
    "    x = np.cos(phases)\n",
    "    y = np.sin(phases)\n",
    "    ax.scatter(x,y)\n",
    "    plt.gca().set_aspect('equal', adjustable='box')\n",
    "    plt.show()\n",
    "    plt.close()\n",
    "    "
   ]
  },
  {
   "cell_type": "code",
   "execution_count": 8,
   "metadata": {},
   "outputs": [],
   "source": [
    "def OptimizePhase(phases, masks, LossFunc, iterations=1000, lr=0.01, eps=1e-5):\n",
    "    phase = torch.tensor(phases, requires_grad=True).float()\n",
    "    opt = torch.optim.Adam([phase,], lr=lr)\n",
    "    phase = phase.unsqueeze(0)\n",
    "    lh = []\n",
    "    for t in range(iterations):\n",
    "        opt.zero_grad()\n",
    "        loss = LossFunc(phase, masks, eps=eps)\n",
    "        lh.append(loss.detach().numpy())\n",
    "        loss.backward()\n",
    "        opt.step()\n",
    "    final_phase = (phase.squeeze().detach().data.numpy() % ((2*np.pi) + 2*np.pi)) % (2*np.pi)\n",
    "    fig = plt.figure()\n",
    "    ax1 = fig.add_subplot(121)\n",
    "    shp = nearly_square(final_phase.shape[0])\n",
    "    im = ax1.imshow(final_phase.reshape(shp[0],shp[1]), vmax=2*np.pi, vmin=0, cmap='hsv')\n",
    "    ax2 = fig.add_subplot(122, polar=True)\n",
    "    sc = ax2.scatter(final_phase,\n",
    "                     np.ones_like(final_phase),\n",
    "                     c = final_phase,\n",
    "                     vmin=0,\n",
    "                     vmax=2 * np.pi,\n",
    "                     cmap='hsv')\n",
    "    plt.setp(ax2.xaxis.get_majorticklabels(), va=\"top\",\n",
    "             rotation_mode=\"anchor\", fontsize=8)\n",
    "    ax2.grid(False)\n",
    "    ax2.set_yticks([])\n",
    "    ax2.set_ylim(0, 1.05)\n",
    "    return lh\n",
    "\n",
    "def OptimizeCoupling(phases, masks, LossFunc, iterations=100,\n",
    "                     lr=0.1, kura_steps=50, burn_in_prop=.5,alpha=.1, normalized=False):\n",
    "    gen = torch.Generator()\n",
    "    gen = gen.manual_seed(1342)\n",
    "    init_coupling = torch.normal(0, 1, size=(1, osci_num, osci_num),generator=gen,requires_grad=False).float()\n",
    "    if normalized:\n",
    "        init_coupling = 5*normalize(init_coupling)\n",
    "    coupling = Variable(init_coupling.clone(), requires_grad=True)\n",
    "    lh = []\n",
    "    opt = torch.optim.Adam([coupling,], lr=lr)\n",
    "    for t in range(iterations):\n",
    "        normed_coupling = coupling if not normalized else 5*normalize(coupling)\n",
    "        init_phase = torch.tensor(phase_list).float().unsqueeze(0)\n",
    "        opt.zero_grad()\n",
    "        phase = kuramoto(init_phase, normed_coupling, steps=kura_steps,alpha=alpha)\n",
    "        loss = LossFunc(phase, masks, burn_in_prop=burn_in_prop)\n",
    "        lh.append(loss.detach().numpy())\n",
    "        loss.backward()\n",
    "        opt.step()\n",
    "    ipdb.set_trace()\n",
    "    test_phase = kuramoto(init_phase, omega, normed_coupling, steps=2*kura_steps, alpha=alpha)\n",
    "    phase_evol(test_phase.detach().numpy(), masks.data.numpy())\n",
    "\n",
    "    return lh, normed_coupling.detach().numpy(), init_coupling.detach().numpy()\n",
    "\n",
    "def OptimizeSymmetricCoupling(phases, masks, LossFunc, iterations=100,\n",
    "                     lr=0.1, kura_steps=50, burn_in_prop=.5,alpha=.1, normalized=False):\n",
    "    gen = torch.Generator()\n",
    "    gen = gen.manual_seed(1342)\n",
    "    ut_size = int(osci_num * (osci_num - 1) / 2)\n",
    "    triu_ind = torch.triu_indices(row=osci_num, col=osci_num, offset=1)\n",
    "    tril_ind = torch.tril_indices(row=osci_num, col=osci_num, offset=1)\n",
    "\n",
    "    init_ut = torch.normal(0, 1, size=(1, ut_size),generator=gen).float()\n",
    "\n",
    "    ut = Variable(init_ut.clone(), requires_grad=True)\n",
    "    omega = torch.zeros(1, osci_num).float()\n",
    "    lh = []\n",
    "    opt = torch.optim.Adam([ut,], lr=lr)\n",
    "    for t in range(iterations):\n",
    "        coupling = torch.zeros(1,osci_num, osci_num)\n",
    "        coupling[:,triu_ind[0],triu_ind[1]] = ut\n",
    "        coupling += coupling.transpose(2,1)\n",
    "        normed_coupling = coupling if not normalized else 5*normalize(coupling)\n",
    "        \n",
    "        init_phase = torch.tensor(phase_list).float().unsqueeze(0)\n",
    "        opt.zero_grad()\n",
    "        phase = kuramoto(init_phase, omega, normed_coupling, steps=kura_steps,alpha=alpha)\n",
    "        loss = LossFunc(phase, masks, burn_in_prop=burn_in_prop)\n",
    "        lh.append(loss.detach().numpy())\n",
    "        loss.backward()\n",
    "        opt.step()\n",
    "    test_phase = kuramoto(init_phase, omega, normed_coupling, steps=2*kura_steps, alpha=alpha)\n",
    "    phase_evol(test_phase.detach().numpy(), masks.data.numpy())\n",
    "\n",
    "    return lh, ut.detach().numpy(), init_ut.detach().numpy()\n"
   ]
  },
  {
   "cell_type": "code",
   "execution_count": 92,
   "metadata": {},
   "outputs": [],
   "source": [
    "np.random.seed(0)\n",
    "\n",
    "num_phases = 720\n",
    "num_groups = 6\n",
    "noise = 0\n",
    "if num_phases % num_groups != 0:\n",
    "    raise ValueError(\"Num groups must divide num_phases\")\n",
    "\n",
    "#phase_list = (np.linspace(2*np.pi/num_phases,2*np.pi,num_phases) + noise*np.random.normal(0,.5,num_phases)).tolist()\n",
    "#print(phase_list)\n",
    "phase_list = np.random.normal(np.pi,.1,(num_phases,)).tolist()\n",
    "#phase_list = (np.random.rand(num_phases) * 2 * np.pi).tolist()\n",
    "#phase_list = (np.ones(num_phases) * np.pi).tolist()\n",
    "\n",
    "groups = np.zeros((num_groups, num_phases))\n",
    "for i, g in enumerate(groups):\n",
    "    g[i *int(num_phases / num_groups): (i+1) * int(num_phases / num_groups)] += 1\n",
    "    \n",
    "masks = torch.tensor(groups).unsqueeze(0).float()\n",
    "osci_num = len(phase_list)\n",
    "\n"
   ]
  },
  {
   "cell_type": "code",
   "execution_count": 9,
   "metadata": {},
   "outputs": [
    {
     "ename": "KeyboardInterrupt",
     "evalue": "",
     "output_type": "error",
     "traceback": [
      "\u001b[0;31m---------------------------------------------------------------------------\u001b[0m",
      "\u001b[0;31mKeyboardInterrupt\u001b[0m                         Traceback (most recent call last)",
      "\u001b[0;32m<ipython-input-9-5366c7fe10bf>\u001b[0m in \u001b[0;36m<module>\u001b[0;34m\u001b[0m\n\u001b[1;32m      5\u001b[0m \u001b[0mc_min\u001b[0m \u001b[0;34m=\u001b[0m \u001b[0;34m(\u001b[0m\u001b[0;34m(\u001b[0m\u001b[0;34m-\u001b[0m\u001b[0;36m1\u001b[0m\u001b[0;34m*\u001b[0m\u001b[0mtorch\u001b[0m\u001b[0;34m.\u001b[0m\u001b[0mlog\u001b[0m\u001b[0;34m(\u001b[0m\u001b[0mtorch\u001b[0m\u001b[0;34m.\u001b[0m\u001b[0mabs\u001b[0m\u001b[0;34m(\u001b[0m\u001b[0;36m2\u001b[0m\u001b[0;34m*\u001b[0m\u001b[0mtorch\u001b[0m\u001b[0;34m.\u001b[0m\u001b[0msin\u001b[0m\u001b[0;34m(\u001b[0m\u001b[0;36m.5\u001b[0m\u001b[0;34m*\u001b[0m\u001b[0;34m(\u001b[0m\u001b[0mphase_diffs\u001b[0m\u001b[0;34m)\u001b[0m\u001b[0;34m)\u001b[0m\u001b[0;34m)\u001b[0m \u001b[0;34m+\u001b[0m \u001b[0meps\u001b[0m\u001b[0;34m)\u001b[0m\u001b[0;34m)\u001b[0m\u001b[0;34m)\u001b[0m\u001b[0;34m.\u001b[0m\u001b[0msum\u001b[0m\u001b[0;34m(\u001b[0m\u001b[0;34m(\u001b[0m\u001b[0;36m0\u001b[0m\u001b[0;34m,\u001b[0m\u001b[0;36m1\u001b[0m\u001b[0;34m)\u001b[0m\u001b[0;34m)\u001b[0m \u001b[0;34m/\u001b[0m \u001b[0;34m(\u001b[0m\u001b[0mnum_groups\u001b[0m\u001b[0;34m)\u001b[0m\u001b[0;34m**\u001b[0m\u001b[0;36m2\u001b[0m\u001b[0;34m\u001b[0m\u001b[0m\n\u001b[1;32m      6\u001b[0m \u001b[0;34m\u001b[0m\u001b[0m\n\u001b[0;32m----> 7\u001b[0;31m \u001b[0mlh\u001b[0m \u001b[0;34m=\u001b[0m \u001b[0mOptimizePhase\u001b[0m\u001b[0;34m(\u001b[0m\u001b[0mphase_list\u001b[0m\u001b[0;34m,\u001b[0m \u001b[0mmasks\u001b[0m\u001b[0;34m,\u001b[0m\u001b[0mcohn_loss\u001b[0m\u001b[0;34m,\u001b[0m\u001b[0miterations\u001b[0m\u001b[0;34m=\u001b[0m\u001b[0;36m3000\u001b[0m\u001b[0;34m,\u001b[0m \u001b[0mlr\u001b[0m\u001b[0;34m=\u001b[0m\u001b[0;36m.1\u001b[0m\u001b[0;34m,\u001b[0m \u001b[0meps\u001b[0m\u001b[0;34m=\u001b[0m\u001b[0meps\u001b[0m\u001b[0;34m)\u001b[0m\u001b[0;34m\u001b[0m\u001b[0m\n\u001b[0m",
      "\u001b[0;32m<ipython-input-7-a0ecda89dde3>\u001b[0m in \u001b[0;36mOptimizePhase\u001b[0;34m(phases, masks, LossFunc, iterations, lr, eps)\u001b[0m\n\u001b[1;32m      6\u001b[0m     \u001b[0;32mfor\u001b[0m \u001b[0mt\u001b[0m \u001b[0;32min\u001b[0m \u001b[0mrange\u001b[0m\u001b[0;34m(\u001b[0m\u001b[0miterations\u001b[0m\u001b[0;34m)\u001b[0m\u001b[0;34m:\u001b[0m\u001b[0;34m\u001b[0m\u001b[0m\n\u001b[1;32m      7\u001b[0m         \u001b[0mopt\u001b[0m\u001b[0;34m.\u001b[0m\u001b[0mzero_grad\u001b[0m\u001b[0;34m(\u001b[0m\u001b[0;34m)\u001b[0m\u001b[0;34m\u001b[0m\u001b[0m\n\u001b[0;32m----> 8\u001b[0;31m         \u001b[0mloss\u001b[0m \u001b[0;34m=\u001b[0m \u001b[0mLossFunc\u001b[0m\u001b[0;34m(\u001b[0m\u001b[0mphase\u001b[0m\u001b[0;34m,\u001b[0m \u001b[0mmasks\u001b[0m\u001b[0;34m,\u001b[0m \u001b[0meps\u001b[0m\u001b[0;34m=\u001b[0m\u001b[0meps\u001b[0m\u001b[0;34m)\u001b[0m\u001b[0;34m\u001b[0m\u001b[0m\n\u001b[0m\u001b[1;32m      9\u001b[0m         \u001b[0mlh\u001b[0m\u001b[0;34m.\u001b[0m\u001b[0mappend\u001b[0m\u001b[0;34m(\u001b[0m\u001b[0mloss\u001b[0m\u001b[0;34m.\u001b[0m\u001b[0mdetach\u001b[0m\u001b[0;34m(\u001b[0m\u001b[0;34m)\u001b[0m\u001b[0;34m.\u001b[0m\u001b[0mnumpy\u001b[0m\u001b[0;34m(\u001b[0m\u001b[0;34m)\u001b[0m\u001b[0;34m)\u001b[0m\u001b[0;34m\u001b[0m\u001b[0m\n\u001b[1;32m     10\u001b[0m         \u001b[0mloss\u001b[0m\u001b[0;34m.\u001b[0m\u001b[0mbackward\u001b[0m\u001b[0;34m(\u001b[0m\u001b[0;34m)\u001b[0m\u001b[0;34m\u001b[0m\u001b[0m\n",
      "\u001b[0;32m<ipython-input-4-e8c89064f4a7>\u001b[0m in \u001b[0;36mcohn_loss\u001b[0;34m(phases, masks, eps, burn_in_prop)\u001b[0m\n\u001b[1;32m     85\u001b[0m     \u001b[0mdesynch\u001b[0m \u001b[0;34m-=\u001b[0m \u001b[0mc_min\u001b[0m\u001b[0;34m\u001b[0m\u001b[0m\n\u001b[1;32m     86\u001b[0m \u001b[0;34m\u001b[0m\u001b[0m\n\u001b[0;32m---> 87\u001b[0;31m     \u001b[0mloss\u001b[0m \u001b[0;34m=\u001b[0m \u001b[0;36m.5\u001b[0m\u001b[0;34m*\u001b[0m\u001b[0;34m(\u001b[0m\u001b[0msynch\u001b[0m \u001b[0;34m+\u001b[0m \u001b[0mdesynch\u001b[0m\u001b[0;34m)\u001b[0m\u001b[0;34m[\u001b[0m\u001b[0;34m-\u001b[0m\u001b[0;36m1\u001b[0m\u001b[0;34m*\u001b[0m\u001b[0mpost_burn_in_steps\u001b[0m\u001b[0;34m:\u001b[0m\u001b[0;34m]\u001b[0m\u001b[0;34m\u001b[0m\u001b[0m\n\u001b[0m\u001b[1;32m     88\u001b[0m     \u001b[0;32mreturn\u001b[0m \u001b[0mloss\u001b[0m\u001b[0;34m.\u001b[0m\u001b[0mmean\u001b[0m\u001b[0;34m(\u001b[0m\u001b[0;34m)\u001b[0m\u001b[0;34m\u001b[0m\u001b[0m\n",
      "\u001b[0;31mKeyboardInterrupt\u001b[0m: "
     ]
    }
   ],
   "source": [
    "# Make Cohn loss constant\n",
    "np.random.seed(0)\n",
    "torch.random.seed(0)\n",
    "eps=1e-12\n",
    "splay_phases = torch.linspace(0, 2*np.pi, num_groups+1)[:-1]\n",
    "phase_diffs = splay_phases.unsqueeze(1) - splay_phases.unsqueeze(0)\n",
    "c_min = ((-1*torch.log(torch.abs(2*torch.sin(.5*(phase_diffs))) + eps))).sum((0,1)) / (num_groups)**2\n",
    "\n",
    "lh = OptimizePhase(phase_list, masks,cohn_loss,iterations=3000, lr=.1, eps=eps)\n"
   ]
  },
  {
   "cell_type": "code",
   "execution_count": 106,
   "metadata": {},
   "outputs": [
    {
     "data": {
      "image/png": "[encoded data removed]",
      "text/plain": [
       "<Figure size 432x288 with 1 Axes>"
      ]
     },
     "metadata": {},
     "output_type": "display_data"
    }
   ],
   "source": [
    "plt.plot(lh)\n",
    "plt.show()\n",
    "plt.close()"
   ]
  },
  {
   "cell_type": "code",
   "execution_count": 103,
   "metadata": {},
   "outputs": [
    {
     "name": "stdout",
     "output_type": "stream",
     "text": [
      "> \u001b[0;32m<ipython-input-94-3d39663f015e>\u001b[0m(51)\u001b[0;36mOptimizeCoupling\u001b[0;34m()\u001b[0m\n",
      "\u001b[0;32m     50 \u001b[0;31m    \u001b[0mipdb\u001b[0m\u001b[0;34m.\u001b[0m\u001b[0mset_trace\u001b[0m\u001b[0;34m(\u001b[0m\u001b[0;34m)\u001b[0m\u001b[0;34m\u001b[0m\u001b[0m\n",
      "\u001b[0m\u001b[0;32m---> 51 \u001b[0;31m    \u001b[0mtest_phase\u001b[0m \u001b[0;34m=\u001b[0m \u001b[0mkuramoto\u001b[0m\u001b[0;34m(\u001b[0m\u001b[0minit_phase\u001b[0m\u001b[0;34m,\u001b[0m \u001b[0momega\u001b[0m\u001b[0;34m,\u001b[0m \u001b[0mnormed_coupling\u001b[0m\u001b[0;34m,\u001b[0m \u001b[0msteps\u001b[0m\u001b[0;34m=\u001b[0m\u001b[0;36m2\u001b[0m\u001b[0;34m*\u001b[0m\u001b[0mkura_steps\u001b[0m\u001b[0;34m,\u001b[0m \u001b[0malpha\u001b[0m\u001b[0;34m=\u001b[0m\u001b[0malpha\u001b[0m\u001b[0;34m)\u001b[0m\u001b[0;34m\u001b[0m\u001b[0m\n",
      "\u001b[0m\u001b[0;32m     52 \u001b[0;31m    \u001b[0mphase_evol\u001b[0m\u001b[0;34m(\u001b[0m\u001b[0mtest_phase\u001b[0m\u001b[0;34m.\u001b[0m\u001b[0mdetach\u001b[0m\u001b[0;34m(\u001b[0m\u001b[0;34m)\u001b[0m\u001b[0;34m.\u001b[0m\u001b[0mnumpy\u001b[0m\u001b[0;34m(\u001b[0m\u001b[0;34m)\u001b[0m\u001b[0;34m,\u001b[0m \u001b[0mmasks\u001b[0m\u001b[0;34m.\u001b[0m\u001b[0mdata\u001b[0m\u001b[0;34m.\u001b[0m\u001b[0mnumpy\u001b[0m\u001b[0;34m(\u001b[0m\u001b[0;34m)\u001b[0m\u001b[0;34m)\u001b[0m\u001b[0;34m\u001b[0m\u001b[0m\n",
      "\u001b[0m\n",
      "ipdb> masks.shape\n",
      "torch.Size([1, 6, 720])\n",
      "ipdb> exit\n"
     ]
    },
    {
     "ename": "BdbQuit",
     "evalue": "",
     "output_type": "error",
     "traceback": [
      "\u001b[0;31m---------------------------------------------------------------------------\u001b[0m",
      "\u001b[0;31mBdbQuit\u001b[0m                                   Traceback (most recent call last)",
      "\u001b[0;32m<ipython-input-103-c99101d491e7>\u001b[0m in \u001b[0;36m<module>\u001b[0;34m\u001b[0m\n\u001b[1;32m      2\u001b[0m \u001b[0mtorch\u001b[0m\u001b[0;34m.\u001b[0m\u001b[0mmanual_seed\u001b[0m\u001b[0;34m(\u001b[0m\u001b[0;36m0\u001b[0m\u001b[0;34m)\u001b[0m\u001b[0;34m\u001b[0m\u001b[0m\n\u001b[1;32m      3\u001b[0m lh, coupling, init_coupling = OptimizeCoupling(osci_num, masks, cohn_loss, lr =.05, iterations=1,\n\u001b[0;32m----> 4\u001b[0;31m                  kura_steps=100, burn_in_prop=0.0, alpha=.1, normalized=False)\n\u001b[0m",
      "\u001b[0;32m<ipython-input-94-3d39663f015e>\u001b[0m in \u001b[0;36mOptimizeCoupling\u001b[0;34m(phases, masks, LossFunc, iterations, lr, kura_steps, burn_in_prop, alpha, normalized)\u001b[0m\n\u001b[1;32m     49\u001b[0m         \u001b[0mopt\u001b[0m\u001b[0;34m.\u001b[0m\u001b[0mstep\u001b[0m\u001b[0;34m(\u001b[0m\u001b[0;34m)\u001b[0m\u001b[0;34m\u001b[0m\u001b[0m\n\u001b[1;32m     50\u001b[0m     \u001b[0mipdb\u001b[0m\u001b[0;34m.\u001b[0m\u001b[0mset_trace\u001b[0m\u001b[0;34m(\u001b[0m\u001b[0;34m)\u001b[0m\u001b[0;34m\u001b[0m\u001b[0m\n\u001b[0;32m---> 51\u001b[0;31m     \u001b[0mtest_phase\u001b[0m \u001b[0;34m=\u001b[0m \u001b[0mkuramoto\u001b[0m\u001b[0;34m(\u001b[0m\u001b[0minit_phase\u001b[0m\u001b[0;34m,\u001b[0m \u001b[0momega\u001b[0m\u001b[0;34m,\u001b[0m \u001b[0mnormed_coupling\u001b[0m\u001b[0;34m,\u001b[0m \u001b[0msteps\u001b[0m\u001b[0;34m=\u001b[0m\u001b[0;36m2\u001b[0m\u001b[0;34m*\u001b[0m\u001b[0mkura_steps\u001b[0m\u001b[0;34m,\u001b[0m \u001b[0malpha\u001b[0m\u001b[0;34m=\u001b[0m\u001b[0malpha\u001b[0m\u001b[0;34m)\u001b[0m\u001b[0;34m\u001b[0m\u001b[0m\n\u001b[0m\u001b[1;32m     52\u001b[0m     \u001b[0mphase_evol\u001b[0m\u001b[0;34m(\u001b[0m\u001b[0mtest_phase\u001b[0m\u001b[0;34m.\u001b[0m\u001b[0mdetach\u001b[0m\u001b[0;34m(\u001b[0m\u001b[0;34m)\u001b[0m\u001b[0;34m.\u001b[0m\u001b[0mnumpy\u001b[0m\u001b[0;34m(\u001b[0m\u001b[0;34m)\u001b[0m\u001b[0;34m,\u001b[0m \u001b[0mmasks\u001b[0m\u001b[0;34m.\u001b[0m\u001b[0mdata\u001b[0m\u001b[0;34m.\u001b[0m\u001b[0mnumpy\u001b[0m\u001b[0;34m(\u001b[0m\u001b[0;34m)\u001b[0m\u001b[0;34m)\u001b[0m\u001b[0;34m\u001b[0m\u001b[0m\n\u001b[1;32m     53\u001b[0m \u001b[0;34m\u001b[0m\u001b[0m\n",
      "\u001b[0;32m<ipython-input-94-3d39663f015e>\u001b[0m in \u001b[0;36mOptimizeCoupling\u001b[0;34m(phases, masks, LossFunc, iterations, lr, kura_steps, burn_in_prop, alpha, normalized)\u001b[0m\n\u001b[1;32m     49\u001b[0m         \u001b[0mopt\u001b[0m\u001b[0;34m.\u001b[0m\u001b[0mstep\u001b[0m\u001b[0;34m(\u001b[0m\u001b[0;34m)\u001b[0m\u001b[0;34m\u001b[0m\u001b[0m\n\u001b[1;32m     50\u001b[0m     \u001b[0mipdb\u001b[0m\u001b[0;34m.\u001b[0m\u001b[0mset_trace\u001b[0m\u001b[0;34m(\u001b[0m\u001b[0;34m)\u001b[0m\u001b[0;34m\u001b[0m\u001b[0m\n\u001b[0;32m---> 51\u001b[0;31m     \u001b[0mtest_phase\u001b[0m \u001b[0;34m=\u001b[0m \u001b[0mkuramoto\u001b[0m\u001b[0;34m(\u001b[0m\u001b[0minit_phase\u001b[0m\u001b[0;34m,\u001b[0m \u001b[0momega\u001b[0m\u001b[0;34m,\u001b[0m \u001b[0mnormed_coupling\u001b[0m\u001b[0;34m,\u001b[0m \u001b[0msteps\u001b[0m\u001b[0;34m=\u001b[0m\u001b[0;36m2\u001b[0m\u001b[0;34m*\u001b[0m\u001b[0mkura_steps\u001b[0m\u001b[0;34m,\u001b[0m \u001b[0malpha\u001b[0m\u001b[0;34m=\u001b[0m\u001b[0malpha\u001b[0m\u001b[0;34m)\u001b[0m\u001b[0;34m\u001b[0m\u001b[0m\n\u001b[0m\u001b[1;32m     52\u001b[0m     \u001b[0mphase_evol\u001b[0m\u001b[0;34m(\u001b[0m\u001b[0mtest_phase\u001b[0m\u001b[0;34m.\u001b[0m\u001b[0mdetach\u001b[0m\u001b[0;34m(\u001b[0m\u001b[0;34m)\u001b[0m\u001b[0;34m.\u001b[0m\u001b[0mnumpy\u001b[0m\u001b[0;34m(\u001b[0m\u001b[0;34m)\u001b[0m\u001b[0;34m,\u001b[0m \u001b[0mmasks\u001b[0m\u001b[0;34m.\u001b[0m\u001b[0mdata\u001b[0m\u001b[0;34m.\u001b[0m\u001b[0mnumpy\u001b[0m\u001b[0;34m(\u001b[0m\u001b[0;34m)\u001b[0m\u001b[0;34m)\u001b[0m\u001b[0;34m\u001b[0m\u001b[0m\n\u001b[1;32m     53\u001b[0m \u001b[0;34m\u001b[0m\u001b[0m\n",
      "\u001b[0;32m/usr/lib/python3.5/bdb.py\u001b[0m in \u001b[0;36mtrace_dispatch\u001b[0;34m(self, frame, event, arg)\u001b[0m\n\u001b[1;32m     46\u001b[0m             \u001b[0;32mreturn\u001b[0m \u001b[0;31m# None\u001b[0m\u001b[0;34m\u001b[0m\u001b[0m\n\u001b[1;32m     47\u001b[0m         \u001b[0;32mif\u001b[0m \u001b[0mevent\u001b[0m \u001b[0;34m==\u001b[0m \u001b[0;34m'line'\u001b[0m\u001b[0;34m:\u001b[0m\u001b[0;34m\u001b[0m\u001b[0m\n\u001b[0;32m---> 48\u001b[0;31m             \u001b[0;32mreturn\u001b[0m \u001b[0mself\u001b[0m\u001b[0;34m.\u001b[0m\u001b[0mdispatch_line\u001b[0m\u001b[0;34m(\u001b[0m\u001b[0mframe\u001b[0m\u001b[0;34m)\u001b[0m\u001b[0;34m\u001b[0m\u001b[0m\n\u001b[0m\u001b[1;32m     49\u001b[0m         \u001b[0;32mif\u001b[0m \u001b[0mevent\u001b[0m \u001b[0;34m==\u001b[0m \u001b[0;34m'call'\u001b[0m\u001b[0;34m:\u001b[0m\u001b[0;34m\u001b[0m\u001b[0m\n\u001b[1;32m     50\u001b[0m             \u001b[0;32mreturn\u001b[0m \u001b[0mself\u001b[0m\u001b[0;34m.\u001b[0m\u001b[0mdispatch_call\u001b[0m\u001b[0;34m(\u001b[0m\u001b[0mframe\u001b[0m\u001b[0;34m,\u001b[0m \u001b[0marg\u001b[0m\u001b[0;34m)\u001b[0m\u001b[0;34m\u001b[0m\u001b[0m\n",
      "\u001b[0;32m/usr/lib/python3.5/bdb.py\u001b[0m in \u001b[0;36mdispatch_line\u001b[0;34m(self, frame)\u001b[0m\n\u001b[1;32m     65\u001b[0m         \u001b[0;32mif\u001b[0m \u001b[0mself\u001b[0m\u001b[0;34m.\u001b[0m\u001b[0mstop_here\u001b[0m\u001b[0;34m(\u001b[0m\u001b[0mframe\u001b[0m\u001b[0;34m)\u001b[0m \u001b[0;32mor\u001b[0m \u001b[0mself\u001b[0m\u001b[0;34m.\u001b[0m\u001b[0mbreak_here\u001b[0m\u001b[0;34m(\u001b[0m\u001b[0mframe\u001b[0m\u001b[0;34m)\u001b[0m\u001b[0;34m:\u001b[0m\u001b[0;34m\u001b[0m\u001b[0m\n\u001b[1;32m     66\u001b[0m             \u001b[0mself\u001b[0m\u001b[0;34m.\u001b[0m\u001b[0muser_line\u001b[0m\u001b[0;34m(\u001b[0m\u001b[0mframe\u001b[0m\u001b[0;34m)\u001b[0m\u001b[0;34m\u001b[0m\u001b[0m\n\u001b[0;32m---> 67\u001b[0;31m             \u001b[0;32mif\u001b[0m \u001b[0mself\u001b[0m\u001b[0;34m.\u001b[0m\u001b[0mquitting\u001b[0m\u001b[0;34m:\u001b[0m \u001b[0;32mraise\u001b[0m \u001b[0mBdbQuit\u001b[0m\u001b[0;34m\u001b[0m\u001b[0m\n\u001b[0m\u001b[1;32m     68\u001b[0m         \u001b[0;32mreturn\u001b[0m \u001b[0mself\u001b[0m\u001b[0;34m.\u001b[0m\u001b[0mtrace_dispatch\u001b[0m\u001b[0;34m\u001b[0m\u001b[0m\n\u001b[1;32m     69\u001b[0m \u001b[0;34m\u001b[0m\u001b[0m\n",
      "\u001b[0;31mBdbQuit\u001b[0m: "
     ]
    }
   ],
   "source": [
    "np.random.seed(0)\n",
    "torch.manual_seed(0)\n",
    "lh, coupling, init_coupling = OptimizeCoupling(osci_num, masks, cohn_loss, lr =.05, iterations=1,\n",
    "                 kura_steps=100, burn_in_prop=0.0, alpha=.1, normalized=False)"
   ]
  },
  {
   "cell_type": "code",
   "execution_count": 96,
   "metadata": {},
   "outputs": [
    {
     "ename": "TypeError",
     "evalue": "kuramoto() got multiple values for argument 'steps'",
     "output_type": "error",
     "traceback": [
      "\u001b[0;31m---------------------------------------------------------------------------\u001b[0m",
      "\u001b[0;31mTypeError\u001b[0m                                 Traceback (most recent call last)",
      "\u001b[0;32m<ipython-input-96-df2935cece15>\u001b[0m in \u001b[0;36m<module>\u001b[0;34m\u001b[0m\n\u001b[1;32m      2\u001b[0m \u001b[0mtorch\u001b[0m\u001b[0;34m.\u001b[0m\u001b[0mmanual_seed\u001b[0m\u001b[0;34m(\u001b[0m\u001b[0;36m0\u001b[0m\u001b[0;34m)\u001b[0m\u001b[0;34m\u001b[0m\u001b[0m\n\u001b[1;32m      3\u001b[0m lh, coupling, init_coupling = OptimizeSymmetricCoupling(osci_num, masks, cohn_loss, lr =.05, iterations=2000,\n\u001b[0;32m----> 4\u001b[0;31m                  kura_steps=100, burn_in_prop=.5, alpha=.1, normalized=False)\n\u001b[0m",
      "\u001b[0;32m<ipython-input-94-3d39663f015e>\u001b[0m in \u001b[0;36mOptimizeSymmetricCoupling\u001b[0;34m(phases, masks, LossFunc, iterations, lr, kura_steps, burn_in_prop, alpha, normalized)\u001b[0m\n\u001b[1;32m     76\u001b[0m         \u001b[0minit_phase\u001b[0m \u001b[0;34m=\u001b[0m \u001b[0mtorch\u001b[0m\u001b[0;34m.\u001b[0m\u001b[0mtensor\u001b[0m\u001b[0;34m(\u001b[0m\u001b[0mphase_list\u001b[0m\u001b[0;34m)\u001b[0m\u001b[0;34m.\u001b[0m\u001b[0mfloat\u001b[0m\u001b[0;34m(\u001b[0m\u001b[0;34m)\u001b[0m\u001b[0;34m.\u001b[0m\u001b[0munsqueeze\u001b[0m\u001b[0;34m(\u001b[0m\u001b[0;36m0\u001b[0m\u001b[0;34m)\u001b[0m\u001b[0;34m\u001b[0m\u001b[0m\n\u001b[1;32m     77\u001b[0m         \u001b[0mopt\u001b[0m\u001b[0;34m.\u001b[0m\u001b[0mzero_grad\u001b[0m\u001b[0;34m(\u001b[0m\u001b[0;34m)\u001b[0m\u001b[0;34m\u001b[0m\u001b[0m\n\u001b[0;32m---> 78\u001b[0;31m         \u001b[0mphase\u001b[0m \u001b[0;34m=\u001b[0m \u001b[0mkuramoto\u001b[0m\u001b[0;34m(\u001b[0m\u001b[0minit_phase\u001b[0m\u001b[0;34m,\u001b[0m \u001b[0momega\u001b[0m\u001b[0;34m,\u001b[0m \u001b[0mnormed_coupling\u001b[0m\u001b[0;34m,\u001b[0m \u001b[0msteps\u001b[0m\u001b[0;34m=\u001b[0m\u001b[0mkura_steps\u001b[0m\u001b[0;34m,\u001b[0m\u001b[0malpha\u001b[0m\u001b[0;34m=\u001b[0m\u001b[0malpha\u001b[0m\u001b[0;34m)\u001b[0m\u001b[0;34m\u001b[0m\u001b[0m\n\u001b[0m\u001b[1;32m     79\u001b[0m         \u001b[0mloss\u001b[0m \u001b[0;34m=\u001b[0m \u001b[0mLossFunc\u001b[0m\u001b[0;34m(\u001b[0m\u001b[0mphase\u001b[0m\u001b[0;34m,\u001b[0m \u001b[0mmasks\u001b[0m\u001b[0;34m,\u001b[0m \u001b[0mburn_in_prop\u001b[0m\u001b[0;34m=\u001b[0m\u001b[0mburn_in_prop\u001b[0m\u001b[0;34m)\u001b[0m\u001b[0;34m\u001b[0m\u001b[0m\n\u001b[1;32m     80\u001b[0m         \u001b[0mlh\u001b[0m\u001b[0;34m.\u001b[0m\u001b[0mappend\u001b[0m\u001b[0;34m(\u001b[0m\u001b[0mloss\u001b[0m\u001b[0;34m.\u001b[0m\u001b[0mdetach\u001b[0m\u001b[0;34m(\u001b[0m\u001b[0;34m)\u001b[0m\u001b[0;34m.\u001b[0m\u001b[0mnumpy\u001b[0m\u001b[0;34m(\u001b[0m\u001b[0;34m)\u001b[0m\u001b[0;34m)\u001b[0m\u001b[0;34m\u001b[0m\u001b[0m\n",
      "\u001b[0;31mTypeError\u001b[0m: kuramoto() got multiple values for argument 'steps'"
     ]
    }
   ],
   "source": [
    "np.random.seed(0)\n",
    "torch.manual_seed(0)\n",
    "lh, coupling, init_coupling = OptimizeSymmetricCoupling(osci_num, masks, cohn_loss, lr =.05, iterations=2000,\n",
    "                 kura_steps=100, burn_in_prop=.5, alpha=.1, normalized=False)"
   ]
  },
  {
   "cell_type": "code",
   "execution_count": 27,
   "metadata": {},
   "outputs": [
    {
     "name": "stderr",
     "output_type": "stream",
     "text": [
      "/home/matt/newtorch-env/lib/python3.5/site-packages/ipykernel_launcher.py:11: RuntimeWarning: divide by zero encountered in power\n",
      "  # This is added back by InteractiveShellApp.init_path()\n"
     ]
    },
    {
     "data": {
      "image/png": "[encoded data removed]",
      "text/plain": [
       "<Figure size 432x288 with 4 Axes>"
      ]
     },
     "metadata": {
      "needs_background": "light"
     },
     "output_type": "display_data"
    }
   ],
   "source": [
    "fig, axes = plt.subplots(2,2)\n",
    "\n",
    "axes[0,0].plot(lh)\n",
    "\n",
    "bins = np.linspace(-10,10,50)\n",
    "axes[0,1].hist(coupling.reshape(-1),bins=bins,color='r',alpha=.5, density=True)\n",
    "axes[0,1].hist(init_coupling.reshape(-1),bins=bins,color='b',alpha=.5, density=True)\n",
    "\n",
    "bins = np.linspace(0,200,100)\n",
    "triu_ind = np.triu_indices(osci_num,k=1)\n",
    "W_opt = np.zeros((osci_num, osci_num))\n",
    "W_control = np.zeros((osci_num, osci_num))\n",
    "W_opt[triu_ind[0],triu_ind[1]] = np.squeeze(coupling)\n",
    "W_control[triu_ind[0],triu_ind[1]] = np.squeeze(init_coupling)\n",
    "W_opt += W_opt.T\n",
    "D_bar_opt = np.abs(W_opt).sum(1)\n",
    "W_control += W_control.T\n",
    "D_bar_control = np.abs(W_control).sum(1)\n",
    "\n",
    "axes[1,0].hist(D_bar_opt.reshape(-1),50,color='r',alpha=.5, density=True)\n",
    "axes[1,0].hist(D_bar_control.reshape(-1),50,color='b',alpha=.5, density=True)\n",
    "\n",
    "evals_opt     = laplacian_spectrum(osci_num, coupling, normalized=True)\n",
    "evals_control = laplacian_spectrum(osci_num, init_coupling, normalized=True)\n",
    "bins = np.linspace(0.0,1.5,100)\n",
    "axes[1,1].hist(evals_opt,bins=bins,color='r',alpha=.5, density=True)\n",
    "axes[1,1].hist(evals_control,bins=bins,color='b',alpha=.5, density=True)\n",
    "plt.show()\n",
    "plt.close()"
   ]
  },
  {
   "cell_type": "code",
   "execution_count": 10,
   "metadata": {},
   "outputs": [],
   "source": [
    "# Optimize coupling function\n",
    "np.random.seed(0)\n",
    "torch.manual_seed(0)\n",
    "\n",
    "# Training parameters\n",
    "\n",
    "# [.98, .54, .87]\n",
    "\n",
    "omega_name = 'uniform'\n",
    "num_units = 7\n",
    "num_groups = 7\n",
    "num_training = 105\n",
    "num_testing = 1\n",
    "num_epochs = 1\n",
    "# kura_steps = np.arange(50,350,50)\n",
    "kura_steps = 250\n",
    "alpha=1e-2\n",
    "num_hid=256\n",
    "batch_size = 32\n",
    "lr = 1e-2\n",
    "LossFunc=cohn_loss_batch\n",
    "# LossFunc = CosDiff_batch\n",
    "transform= None\n",
    "symmetric = True\n",
    "eps=np.finfo(float).eps\n",
    "\n",
    "burn_in_prop = .98\n",
    "#burn_in_props = np.linspace(0.0,.98,10)\n",
    "splay_phases = torch.linspace(0, 2*np.pi, num_groups+1)[:-1]\n",
    "phase_diffs = splay_phases.unsqueeze(1) - splay_phases.unsqueeze(0)\n",
    "c_min = ((-1*torch.log(torch.abs(2*torch.sin(.5*(phase_diffs))) + eps))).sum((0,1)) / (num_groups)**2\n",
    "\n",
    "mask = torch.stack([torch.eye(num_units) for _ in range(batch_size)])\n",
    "\n",
    "# Training Loop\n",
    "omega_dist, g0 = get_dist(omega_name)\n",
    "\n",
    "lh = []\n",
    "cn = connectivity_net(num_units, num_hid=num_hid, transform=transform, symmetric=symmetric)\n",
    "opt = torch.optim.Adam(cn.parameters(),lr=lr)\n",
    "for i in range(num_training):\n",
    "    omega = omega_dist.sample(sample_shape=torch.Size([batch_size,num_units]))\n",
    "    coupling = cn(omega)\n",
    "    init_phase = torch.normal(np.pi,.01,size=(batch_size,num_units))\n",
    "    opt.zero_grad()\n",
    "    phase = kuramoto(init_phase, omega, coupling, steps=kura_steps,alpha=alpha)\n",
    "    loss = LossFunc(phase, mask, burn_in_prop=burn_in_prop,eps=eps)\n",
    "    lh.append(loss)\n",
    "    loss.backward()\n",
    "    opt.step()\n",
    "    lh.append(loss.mean().detach().numpy())\n"
   ]
  },
  {
   "cell_type": "code",
   "execution_count": 25,
   "metadata": {},
   "outputs": [
    {
     "name": "stderr",
     "output_type": "stream",
     "text": [
      "/home/matt/newtorch-env/lib/python3.5/site-packages/ipykernel_launcher.py:6: RuntimeWarning: divide by zero encountered in power\n",
      "  \n"
     ]
    },
    {
     "data": {
      "image/png": "[encoded data removed]",
      "text/plain": [
       "<Figure size 432x288 with 4 Axes>"
      ]
     },
     "metadata": {
      "needs_background": "light"
     },
     "output_type": "display_data"
    },
    {
     "data": {
      "image/png": "[encoded data removed]",
      "text/plain": [
       "<Figure size 432x288 with 9 Axes>"
      ]
     },
     "metadata": {
      "needs_background": "light"
     },
     "output_type": "display_data"
    }
   ],
   "source": [
    "# Display\n",
    "test_omega = omega_dist.sample(sample_shape=torch.Size([batch_size,num_units]))\n",
    "test_coupling = cn(omega)\n",
    "test_phase = kuramoto(init_phase, test_omega, test_coupling, steps=2*kura_steps,alpha=1e-3)\n",
    "\n",
    "fig, axes = plt.subplots(2,2)\n",
    "\n",
    "axes[0,0].plot(lh)\n",
    "axes[0,0].set_xlabel('Iterations')\n",
    "axes[0,0].set_ylabel('Cohn Loss')\n",
    "cpl = []\n",
    "omg = []\n",
    "evals = []\n",
    "for _ in range(50):\n",
    "    omega = omega_dist.sample(sample_shape=torch.Size([batch_size,num_units]))\n",
    "    coupling = cn(omega)\n",
    "    evals.append(laplacian_spectrum(coupling[1,...].detach().numpy()))\n",
    "    cpl.append(coupling.detach().numpy())\n",
    "    tmp = omega.unsqueeze(2) - omega.unsqueeze(1)\n",
    "    omg.append(tmp.detach().numpy())\n",
    "omg = np.array(omg).reshape(-1)\n",
    "cpl = np.array(cpl).reshape(-1)\n",
    "\n",
    "# axes[1,0].scatter(np.abs(omg),cpl, alpha=.005)\n",
    "# cmax = (cpl==0.0).sum() - 100\n",
    "nz_cpl = cpl[cpl!=0]\n",
    "nz_omg = omg[cpl!=0]\n",
    "axes[0,1].hist(nz_cpl,100, density=True)\n",
    "axes[0,1].set_xlabel('Coupling strength')\n",
    "axes[0,1].set_ylabel('Proportion')\n",
    "\n",
    "axes[1,0].hist2d(np.abs(nz_omg), nz_cpl,bins=100)\n",
    "axes[1,0].set_xlabel(r'$|\\omega_i - \\omega_j|$')\n",
    "axes[1,0].set_ylabel(r'$k_{ij}$')\n",
    "# axes[1,0].set_ylim([cpl.min(), min(cpl.max(), cpl[cpl<0].max())])\n",
    "\n",
    "axes[1,1].hist(np.array(evals).reshape(-1), 100, color='r', density=True)\n",
    "axes[1,1].set_xlabel(r'$\\lambda$')\n",
    "axes[1,1].set_ylabel('Proportion')\n",
    "axes[1,1].set_xlim([0,2.0])\n",
    "plt.subplots_adjust(wspace=.4, hspace=.6)\n",
    "plt.show()\n",
    "plt.close()\n",
    "\n",
    "fig, axes = plt.subplots(3,3)\n",
    "for a, ax in enumerate(axes.reshape(-1)):\n",
    "    phase_evol(test_phase[:,a,...].unsqueeze(1).detach().numpy(), mask[a,...].unsqueeze(0).data.numpy(), ax=ax, action=None)\n",
    "plt.show()\n",
    "plt.close()\n"
   ]
  },
  {
   "cell_type": "code",
   "execution_count": 63,
   "metadata": {},
   "outputs": [
    {
     "name": "stdout",
     "output_type": "stream",
     "text": [
      "[0.         0.69098301 1.80901699 1.80901699 0.69098301 0.        ]\n"
     ]
    },
    {
     "data": {
      "image/png": "[encoded data removed]",
      "text/plain": [
       "<Figure size 432x288 with 1 Axes>"
      ]
     },
     "metadata": {
      "needs_background": "light"
     },
     "output_type": "display_data"
    }
   ],
   "source": [
    "\n",
    "\n",
    "np.random.seed(0)\n",
    "torch.manual_seed(0)\n",
    "num_units=6\n",
    "num_groups=6\n",
    "eps=np.finfo(float).eps\n",
    "mask = torch.stack([torch.eye(num_units) for _ in range(batch_size)])\n",
    "omega = omega_dist.sample(sample_shape=torch.Size([batch_size,num_units]))\n",
    "coupling = cn(omega)\n",
    "coupling = 600*(torch.stack([torch.eye(num_units) for _ in range(batch_size)]) - 1)\n",
    "ipdb.set_trace()\n",
    "init_phase = torch.normal(np.pi,.01,size=(batch_size,num_units))\n",
    "phase = kuramoto(init_phase, omega, coupling, steps=kura_steps,alpha=alpha)\n",
    "LossFunc = cohn_loss_batch\n",
    "splay_phases = torch.linspace(0, 2*np.pi, num_groups+1)[:-1]\n",
    "phase_diffs = splay_phases.unsqueeze(1) - splay_phases.unsqueeze(0)\n",
    "c_min = ((-1*torch.log(torch.abs(2*torch.sin(.5*(phase_diffs))) + eps))).sum((0,1)) / (num_groups)**2\n",
    "\n",
    "# splay_phases =torch.linspace(0, 2*np.pi, num_groups+1)[:-1].reshape(1,1,num_units).repeat(kura_steps,batch_size,1)\n",
    "loss = LossFunc(phase, mask, burn_in_prop=.99,eps=eps)\n",
    "                           \n",
    "print('Loss: ' + str(loss.mean().detach().numpy()))\n",
    "plot_phases(phase[-1,2,...])\n",
    "\n",
    "# fig, axes = plt.subplots(3,3)\n",
    "# for a, ax in enumerate(axes.reshape(-1)):\n",
    "#     phase_evol(phase[:,a,...].unsqueeze(1).detach().numpy(), mask[a,...].unsqueeze(0).data.numpy(), ax=ax, action=None)\n",
    "# plt.show()\n",
    "# plt.close()\n",
    "\n"
   ]
  },
  {
   "cell_type": "code",
   "execution_count": null,
   "metadata": {},
   "outputs": [],
   "source": []
  }
 ],
 "metadata": {
  "kernelspec": {
   "display_name": "Python 3",
   "language": "python",
   "name": "python3"
  },
  "language_info": {
   "codemirror_mode": {
    "name": "ipython",
    "version": 3
   },
   "file_extension": ".py",
   "mimetype": "text/x-python",
   "name": "python",
   "nbconvert_exporter": "python",
   "pygments_lexer": "ipython3",
   "version": "3.5.2"
  }
 },
 "nbformat": 4,
 "nbformat_minor": 4
}
